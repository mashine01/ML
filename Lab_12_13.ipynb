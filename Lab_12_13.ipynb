{
  "nbformat": 4,
  "nbformat_minor": 0,
  "metadata": {
    "colab": {
      "provenance": []
    },
    "kernelspec": {
      "name": "python3",
      "display_name": "Python 3"
    },
    "language_info": {
      "name": "python"
    }
  },
  "cells": [
    {
      "cell_type": "code",
      "source": [
        "import pandas as pd\n",
        "from sklearn.feature_extraction.text import TfidfVectorizer\n",
        "from sklearn.model_selection import train_test_split\n",
        "from sklearn.linear_model import LogisticRegression\n",
        "from sklearn.metrics import accuracy_score, classification_report\n",
        "import nltk\n",
        "from nltk.tokenize import word_tokenize\n",
        "nltk.download('punkt')"
      ],
      "metadata": {
        "colab": {
          "base_uri": "https://localhost:8080/"
        },
        "id": "4PVFKfPw3AAD",
        "outputId": "a02268e8-a2f5-48d5-df2d-596a0368f651"
      },
      "execution_count": null,
      "outputs": [
        {
          "output_type": "stream",
          "name": "stderr",
          "text": [
            "[nltk_data] Downloading package punkt to /root/nltk_data...\n",
            "[nltk_data]   Unzipping tokenizers/punkt.zip.\n"
          ]
        },
        {
          "output_type": "execute_result",
          "data": {
            "text/plain": [
              "True"
            ]
          },
          "metadata": {},
          "execution_count": 15
        }
      ]
    },
    {
      "cell_type": "code",
      "source": [
        "# Load the dataset from CSV\n",
        "df = pd.read_csv('Restaurant_Reviews.csv')  # Replace 'your_dataset.csv' with the actual filename\n",
        "\n",
        "# Tokenization\n",
        "df['tokens'] = df['Review'].apply(lambda x: word_tokenize(x.lower()))  # Assuming 'customer_review' is the column containing reviews\n",
        "\n",
        "# TF-IDF\n",
        "corpus = [' '.join(tokens) for tokens in df['tokens']]\n",
        "vectorizer = TfidfVectorizer()\n",
        "X = vectorizer.fit_transform(corpus)\n",
        "\n",
        "# Define labels (positive/negative sentiment)\n",
        "labels = df['Liked'].values\n",
        "\n",
        "# Split the dataset into training and testing sets\n",
        "X_train, X_test, y_train, y_test = train_test_split(X, labels, test_size=0.2, random_state=50)\n",
        "\n",
        "# Logistic Regression model\n",
        "model = LogisticRegression()\n",
        "model.fit(X_train, y_train)\n",
        "\n",
        "# Make predictions\n",
        "predictions = model.predict(X_test)\n",
        "\n",
        "# Evaluate the model\n",
        "accuracy = accuracy_score(y_test, predictions)\n",
        "print(f\"Accuracy: {accuracy}\")\n",
        "print(classification_report(y_test, predictions))\n"
      ],
      "metadata": {
        "colab": {
          "base_uri": "https://localhost:8080/"
        },
        "id": "Nio-88EZ5gCs",
        "outputId": "e04d55d5-83bb-40f0-c75b-022cad51b11a"
      },
      "execution_count": null,
      "outputs": [
        {
          "output_type": "stream",
          "name": "stdout",
          "text": [
            "Accuracy: 0.77\n",
            "              precision    recall  f1-score   support\n",
            "\n",
            "           0       0.78      0.78      0.78       105\n",
            "           1       0.76      0.76      0.76        95\n",
            "\n",
            "    accuracy                           0.77       200\n",
            "   macro avg       0.77      0.77      0.77       200\n",
            "weighted avg       0.77      0.77      0.77       200\n",
            "\n"
          ]
        }
      ]
    },
    {
      "cell_type": "code",
      "source": [
        "# Load the datasets\n",
        "transactions = pd.read_csv('transactions.csv')\n",
        "cc_info = pd.read_csv('cc_info.csv')\n",
        "\n",
        "# Merge the datasets based on the 'credit_card' column\n",
        "merged_data = pd.merge(transactions, cc_info, on='credit_card', how='left')\n",
        "\n",
        "# Feature Engineering\n",
        "merged_data['hour_of_day'] = pd.to_datetime(merged_data['date']).dt.hour\n",
        "\n",
        "# Scaling Features\n",
        "scaler = StandardScaler()\n",
        "scaled_features = scaler.fit_transform(merged_data[['transaction_dollar_amount', 'Long', 'Lat', 'credit_card_limit', 'hour_of_day']])\n",
        "\n",
        "scaled_data = pd.DataFrame(scaled_features, columns=['transaction_dollar_amount', 'Long', 'Lat', 'credit_card_limit', 'hour_of_day'])\n",
        "\n",
        "# Concatenate the scaled features with other relevant features\n",
        "processed_data = pd.concat([merged_data[['credit_card', 'date']], scaled_data], axis=1)\n",
        "\n",
        "# Define a threshold based on your specific data characteristics\n",
        "threshold = 0.5  # Adjust this based on your data\n",
        "\n",
        "# Assuming 'fraud_label' is a binary label indicating fraud or not fraud\n",
        "processed_data['fraud_label'] = processed_data['transaction_dollar_amount'].apply(lambda x: 1 if x > threshold else 0)\n",
        "\n",
        "X = processed_data[['transaction_dollar_amount', 'Long', 'Lat', 'credit_card_limit', 'hour_of_day']]\n",
        "y = processed_data['fraud_label']\n",
        "\n",
        "X_train, X_test, y_train, y_test = train_test_split(X, y, test_size=0.2, random_state=42)\n",
        "\n",
        "model = LogisticRegression()\n",
        "model.fit(X_train, y_train)\n",
        "\n",
        "# Evaluate the model\n",
        "y_pred = model.predict(X_test)\n",
        "print(\"Accuracy:\", accuracy_score(y_test, y_pred))\n",
        "print(\"Confusion Matrix:\\n\", confusion_matrix(y_test, y_pred))\n",
        "print(\"Classification Report:\\n\", classification_report(y_test, y_pred))\n"
      ],
      "metadata": {
        "colab": {
          "base_uri": "https://localhost:8080/"
        },
        "id": "8gQQ37LB9Qs8",
        "outputId": "ab7921ad-bf0d-40f8-ae6c-f2ec57d775a0"
      },
      "execution_count": null,
      "outputs": [
        {
          "output_type": "stream",
          "name": "stdout",
          "text": [
            "Accuracy: 0.9994568722631454\n",
            "Confusion Matrix:\n",
            " [[52394     0]\n",
            " [   32  6492]]\n",
            "Classification Report:\n",
            "               precision    recall  f1-score   support\n",
            "\n",
            "           0       1.00      1.00      1.00     52394\n",
            "           1       1.00      1.00      1.00      6524\n",
            "\n",
            "    accuracy                           1.00     58918\n",
            "   macro avg       1.00      1.00      1.00     58918\n",
            "weighted avg       1.00      1.00      1.00     58918\n",
            "\n"
          ]
        }
      ]
    }
  ]
}